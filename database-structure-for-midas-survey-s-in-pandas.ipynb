{
 "cells": [
  {
   "cell_type": "code",
   "execution_count": 1,
   "id": "ce710ecf",
   "metadata": {
    "_cell_guid": "b1076dfc-b9ad-4769-8c92-a6c4dae69d19",
    "_uuid": "8f2839f25d086af736a60e9eeb907d3b93b6e0e5",
    "execution": {
     "iopub.execute_input": "2025-02-01T13:24:02.630727Z",
     "iopub.status.busy": "2025-02-01T13:24:02.630322Z",
     "iopub.status.idle": "2025-02-01T13:24:03.721786Z",
     "shell.execute_reply": "2025-02-01T13:24:03.720421Z"
    },
    "papermill": {
     "duration": 1.096647,
     "end_time": "2025-02-01T13:24:03.723881",
     "exception": false,
     "start_time": "2025-02-01T13:24:02.627234",
     "status": "completed"
    },
    "tags": []
   },
   "outputs": [
    {
     "name": "stdout",
     "output_type": "stream",
     "text": [
      "  MIDAS Grade               Definition MIDAS Score\n",
      "0           1  Little or No Disability         0-5\n",
      "1           2           Mild Disabilty        6-10\n",
      "2           3      Moderate Disability       11-20\n",
      "3           4        Severe Disability         21+\n"
     ]
    }
   ],
   "source": [
    "# This Python 3 environment comes with many helpful analytics libraries installed\n",
    "# It is defined by the kaggle/python Docker image: https://github.com/kaggle/docker-python\n",
    "# For example, here's several helpful packages to load\n",
    "\n",
    "import numpy as np # linear algebra\n",
    "import pandas as pd # data processing, CSV file I/O (e.g. pd.read_csv)\n",
    "\n",
    "import pandas as pd\n",
    "\n",
    "MIDAS = {\n",
    "                'MIDAS Grade': ['1','2','3','4'],\n",
    "                'Definition': ['Little or No Disability','Mild Disabilty','Moderate Disability','Severe Disability'],\n",
    "                'MIDAS Score':['0-5','6-10','11-20','21+']\n",
    "}\n",
    "\n",
    "df=pd.DataFrame(MIDAS)\n",
    "print(df)\n"
   ]
  }
 ],
 "metadata": {
  "kaggle": {
   "accelerator": "none",
   "dataSources": [],
   "dockerImageVersionId": 30839,
   "isGpuEnabled": false,
   "isInternetEnabled": true,
   "language": "python",
   "sourceType": "notebook"
  },
  "kernelspec": {
   "display_name": "Python 3",
   "language": "python",
   "name": "python3"
  },
  "language_info": {
   "codemirror_mode": {
    "name": "ipython",
    "version": 3
   },
   "file_extension": ".py",
   "mimetype": "text/x-python",
   "name": "python",
   "nbconvert_exporter": "python",
   "pygments_lexer": "ipython3",
   "version": "3.10.12"
  },
  "papermill": {
   "default_parameters": {},
   "duration": 4.652768,
   "end_time": "2025-02-01T13:24:04.347307",
   "environment_variables": {},
   "exception": null,
   "input_path": "__notebook__.ipynb",
   "output_path": "__notebook__.ipynb",
   "parameters": {},
   "start_time": "2025-02-01T13:23:59.694539",
   "version": "2.6.0"
  }
 },
 "nbformat": 4,
 "nbformat_minor": 5
}
